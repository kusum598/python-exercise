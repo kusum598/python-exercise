{
 "cells": [
  {
   "cell_type": "code",
   "execution_count": 1,
   "metadata": {},
   "outputs": [
    {
     "name": "stdout",
     "output_type": "stream",
     "text": [
      "Hii\n",
      "Hii\n",
      "Hii\n",
      "Hii\n",
      "Hii\n",
      "Hii\n",
      "Hii\n",
      "Hii\n",
      "Hii\n",
      "Hii\n"
     ]
    }
   ],
   "source": [
    "count = 0\n",
    "\n",
    "while count < 10:\n",
    "    print(\"Hii\")\n",
    "    count += 1"
   ]
  },
  {
   "cell_type": "code",
   "execution_count": null,
   "metadata": {},
   "outputs": [],
   "source": []
  },
  {
   "cell_type": "code",
   "execution_count": 2,
   "metadata": {},
   "outputs": [
    {
     "name": "stdout",
     "output_type": "stream",
     "text": [
      "1 Hii\n",
      "2 Hii\n",
      "3 Hii\n",
      "4 Hii\n",
      "5 Hii\n",
      "6 Hii\n",
      "7 Hii\n",
      "8 Hii\n",
      "9 Hii\n",
      "10 Hii\n"
     ]
    }
   ],
   "source": [
    "count = 0\n",
    "\n",
    "while count < 10:\n",
    "    print(count + 1, \"Hii\")\n",
    "    count += 1 "
   ]
  },
  {
   "cell_type": "code",
   "execution_count": 3,
   "metadata": {},
   "outputs": [
    {
     "name": "stdout",
     "output_type": "stream",
     "text": [
      "5 x 1 = 5\n",
      "5 x 2 = 10\n",
      "5 x 3 = 15\n",
      "5 x 4 = 20\n",
      "5 x 5 = 25\n",
      "5 x 6 = 30\n",
      "5 x 7 = 35\n",
      "5 x 8 = 40\n",
      "5 x 9 = 45\n",
      "5 x 10 = 50\n"
     ]
    }
   ],
   "source": [
    "# Display multiplication table for a given number\n",
    "n = 5\n",
    "count = 1\n",
    "while count <= 10:\n",
    "    print(n, 'x', count, '=', n * count )\n",
    "    count += 1 "
   ]
  },
  {
   "cell_type": "code",
   "execution_count": 2,
   "metadata": {},
   "outputs": [
    {
     "name": "stdout",
     "output_type": "stream",
     "text": [
      "sum of digits is 10\n"
     ]
    }
   ],
   "source": [
    "# Finds sum of digits of a number\n",
    "n = int(input(\"Enter Number\"))\n",
    "sum = 0\n",
    "\n",
    "while n > 0:\n",
    "    r = n % 10\n",
    "    n = n // 10 \n",
    "    sum = sum + r\n",
    "\n",
    "print('sum of digits is', sum)    "
   ]
  },
  {
   "cell_type": "code",
   "execution_count": 3,
   "metadata": {},
   "outputs": [
    {
     "name": "stdout",
     "output_type": "stream",
     "text": [
      "Reverse Number is 4321\n"
     ]
    }
   ],
   "source": [
    "# Reverse a number.\n",
    "n = int(input(\"Enter a number\"))\n",
    "rev = 0\n",
    "\n",
    "while n > 0:\n",
    "    r = n % 10\n",
    "    n = n // 10\n",
    "    rev = rev * 10 + r\n",
    "print(\"Reverse Number is\", rev)    "
   ]
  },
  {
   "cell_type": "code",
   "execution_count": 1,
   "metadata": {},
   "outputs": [
    {
     "name": "stdout",
     "output_type": "stream",
     "text": [
      "5\n"
     ]
    }
   ],
   "source": [
    "# Find sum of given two number as input\n",
    "num1 = int(input(\"Enter First Number\"))\n",
    "num2 = int(input(\"Enter second Number\"))\n",
    "\n",
    "sum = num1 + num2\n",
    "print(sum)"
   ]
  },
  {
   "cell_type": "code",
   "execution_count": 7,
   "metadata": {},
   "outputs": [
    {
     "name": "stdout",
     "output_type": "stream",
     "text": [
      "6\n"
     ]
    }
   ],
   "source": [
    "# Find sum of given number as input\n",
    "num_of_nums = int(input(\"Enter number of numbers\"))\n",
    "count = 0\n",
    "sum = 0\n",
    "\n",
    "while count < num_of_nums:\n",
    "    n = int(input(\"Enter a number\"))\n",
    "    sum = sum + n\n",
    "    count = count + 1\n",
    "\n",
    "print(sum)    "
   ]
  },
  {
   "cell_type": "code",
   "execution_count": 1,
   "metadata": {},
   "outputs": [
    {
     "ename": "ValueError",
     "evalue": "invalid literal for int() with base 10: ''",
     "output_type": "error",
     "traceback": [
      "\u001b[1;31m---------------------------------------------------------------------------\u001b[0m",
      "\u001b[1;31mValueError\u001b[0m                                Traceback (most recent call last)",
      "Cell \u001b[1;32mIn[1], line 2\u001b[0m\n\u001b[0;32m      1\u001b[0m \u001b[38;5;66;03m# Find sum of positive and nagative numbers\u001b[39;00m\n\u001b[1;32m----> 2\u001b[0m num_of_nos \u001b[38;5;241m=\u001b[39m \u001b[38;5;28;43mint\u001b[39;49m\u001b[43m(\u001b[49m\u001b[38;5;28;43minput\u001b[39;49m\u001b[43m(\u001b[49m\u001b[38;5;124;43m\"\u001b[39;49m\u001b[38;5;124;43mEnter a number\u001b[39;49m\u001b[38;5;124;43m\"\u001b[39;49m\u001b[43m)\u001b[49m\u001b[43m)\u001b[49m\n\u001b[0;32m      3\u001b[0m psum \u001b[38;5;241m=\u001b[39m \u001b[38;5;241m0\u001b[39m\n\u001b[0;32m      4\u001b[0m nsum \u001b[38;5;241m=\u001b[39m \u001b[38;5;241m0\u001b[39m\n",
      "\u001b[1;31mValueError\u001b[0m: invalid literal for int() with base 10: ''"
     ]
    }
   ],
   "source": [
    "# Find sum of positive and nagative numbers\n",
    "num_of_nos = int(input(\"Enter a number\"))\n",
    "psum = 0\n",
    "nsum = 0\n",
    "count = 0\n",
    "\n",
    "while count < num_of_nos:\n",
    "    n = int(input(\"Enter number\"))\n",
    "    psum = psum + n\n",
    "    nsum = nsum + n\n",
    "if n < 0:\n",
    "    print(\"Nagative sum is\", nsum)\n",
    "\n",
    "else:\n",
    "    print(\"Positive sum is\", psum)    "
   ]
  },
  {
   "cell_type": "code",
   "execution_count": 17,
   "metadata": {},
   "outputs": [
    {
     "name": "stdout",
     "output_type": "stream",
     "text": [
      "5 x 1 = 5\n",
      "5 x 2 = 10\n",
      "5 x 3 = 15\n",
      "5 x 4 = 20\n",
      "5 x 5 = 25\n",
      "5 x 6 = 30\n",
      "5 x 7 = 35\n",
      "5 x 8 = 40\n",
      "5 x 9 = 45\n",
      "5 x 10 = 50\n"
     ]
    }
   ],
   "source": [
    "# Display mulltiplication table for a given number.\n",
    "n = int(input(\"Enter a number\"))\n",
    "\n",
    "\n",
    "for count in range(1, 11):\n",
    "    print(n, 'x', count, '=', n * count)\n",
    "\n",
    "\n"
   ]
  },
  {
   "cell_type": "code",
   "execution_count": 24,
   "metadata": {},
   "outputs": [
    {
     "name": "stdout",
     "output_type": "stream",
     "text": [
      "120\n"
     ]
    }
   ],
   "source": [
    "n = int(input(\"Enter a number\"))\n",
    "fact = 1\n",
    "for i in range(1, n+1):\n",
    "   \n",
    "    fact = i * fact\n",
    "   \n",
    "print(fact)"
   ]
  },
  {
   "cell_type": "code",
   "execution_count": 4,
   "metadata": {},
   "outputs": [
    {
     "name": "stdout",
     "output_type": "stream",
     "text": [
      "2\n",
      "4\n",
      "6\n",
      "8\n",
      "10\n"
     ]
    }
   ],
   "source": [
    "# Print n terms of AP series.\n",
    "n = int(input(\"Enter total terms\"))\n",
    "a = int(input(\"Enter first term\"))\n",
    "d = int(input(\"difference\"))\n",
    "\n",
    "for terms in range(a, a + n * d, d):\n",
    "    print(terms)"
   ]
  },
  {
   "cell_type": "code",
   "execution_count": 6,
   "metadata": {},
   "outputs": [
    {
     "name": "stdout",
     "output_type": "stream",
     "text": [
      "0\n",
      "1\n",
      "1\n",
      "2\n",
      "3\n",
      "5\n",
      "8\n",
      "13\n",
      "21\n",
      "34\n"
     ]
    }
   ],
   "source": [
    "# Print n terms of Fibonacci series.\n",
    "n = int(input(\"Enter number of term\"))\n",
    "a = 0\n",
    "b = 1\n",
    "\n",
    "for i in range(n):\n",
    "    print(a)\n",
    "    c = a + b\n",
    "    a = b\n",
    "    b = c"
   ]
  },
  {
   "cell_type": "code",
   "execution_count": 10,
   "metadata": {},
   "outputs": [
    {
     "name": "stdout",
     "output_type": "stream",
     "text": [
      "1\n",
      "2\n",
      "3\n",
      "4\n",
      "6\n",
      "12\n"
     ]
    }
   ],
   "source": [
    "# Find the Factors of a numbers\n",
    "n = int(input(\"Enter a Number\"))\n",
    "\n",
    "for i in range(1, n+1):\n",
    "    if n % i == 0:\n",
    "        print(i)"
   ]
  },
  {
   "cell_type": "code",
   "execution_count": 24,
   "metadata": {},
   "outputs": [
    {
     "name": "stdout",
     "output_type": "stream",
     "text": [
      "33 is not prime\n"
     ]
    }
   ],
   "source": [
    "# Check if a number is prime or not.\n",
    "n = int(input(\"Enter a Number\"))\n",
    "if n <= 1:\n",
    "    print(n, \"is not prime\")\n",
    "else:    \n",
    "    is_prime = True\n",
    "    for i in range(2, n//2):\n",
    "        if n % i == 0:\n",
    "            is_prime = False\n",
    "            break\n",
    "    if is_prime:\n",
    "        print(n, \"is prime\")\n",
    "    else:\n",
    "        print(n, \"is not prime\")    "
   ]
  },
  {
   "cell_type": "code",
   "execution_count": 7,
   "metadata": {},
   "outputs": [
    {
     "name": "stdout",
     "output_type": "stream",
     "text": [
      "11 is prime\n"
     ]
    }
   ],
   "source": [
    "# Check if a number is prime or not.\n",
    "n = int(input(\"Enter a Number\"))\n",
    "\n",
    "count = 0\n",
    "for i in range(1, n + 1):\n",
    "    if n % i == 0:\n",
    "        count += 1\n",
    "\n",
    "if count == 2:\n",
    "    print(n, \"is prime\")\n",
    "\n",
    "else:\n",
    "    print(n, \"is not prime\")             "
   ]
  },
  {
   "cell_type": "code",
   "execution_count": 28,
   "metadata": {},
   "outputs": [
    {
     "name": "stdout",
     "output_type": "stream",
     "text": [
      "2\n",
      "3\n",
      "5\n",
      "7\n",
      "11\n",
      "13\n",
      "17\n",
      "19\n",
      "23\n",
      "29\n",
      "31\n",
      "37\n",
      "41\n",
      "43\n",
      "47\n",
      "53\n",
      "59\n",
      "61\n",
      "67\n",
      "71\n",
      "73\n",
      "79\n",
      "83\n",
      "89\n",
      "97\n"
     ]
    }
   ],
   "source": [
    "# Print prime number between 1 to 100.\n",
    "for n in range(1, 100+1):\n",
    "    count = 0\n",
    "    for i in range(1, n + 1):\n",
    "        if n % i == 0:\n",
    "            count += 1\n",
    "\n",
    "    if count == 2:\n",
    "        print(n)\n"
   ]
  },
  {
   "cell_type": "code",
   "execution_count": 33,
   "metadata": {},
   "outputs": [
    {
     "name": "stdout",
     "output_type": "stream",
     "text": [
      "0 0\n",
      "0 1\n",
      "0 2\n",
      "0 3\n",
      " \n",
      "1 0\n",
      "1 1\n",
      "1 2\n",
      "1 3\n",
      " \n",
      "2 0\n",
      "2 1\n",
      "2 2\n",
      "2 3\n",
      " \n",
      "3 0\n",
      "3 1\n",
      "3 2\n",
      "3 3\n",
      " \n"
     ]
    }
   ],
   "source": [
    "# pattern printig\n",
    "for i in range(0, 4):\n",
    "    for j in range(0, 4):\n",
    "        print(i, j)\n",
    "    print(' ')    "
   ]
  },
  {
   "cell_type": "code",
   "execution_count": 34,
   "metadata": {},
   "outputs": [
    {
     "name": "stdout",
     "output_type": "stream",
     "text": [
      "* * * *  \n",
      "* * * *  \n",
      "* * * *  \n",
      "* * * *  \n"
     ]
    }
   ],
   "source": [
    "for i in range(0, 4):\n",
    "    for j in range(0, 4):\n",
    "        print(\"*\", end = \" \")\n",
    "    print(' ')    "
   ]
  },
  {
   "cell_type": "code",
   "execution_count": 36,
   "metadata": {},
   "outputs": [
    {
     "name": "stdout",
     "output_type": "stream",
     "text": [
      "*  \n",
      "* *  \n",
      "* * *  \n",
      "* * * *  \n"
     ]
    }
   ],
   "source": [
    "for i in range(0, 4):\n",
    "    for j in range(0, 4):\n",
    "        if i>=j:\n",
    "            print(\"*\", end = \" \")\n",
    "\n",
    "    print(\" \")        "
   ]
  },
  {
   "cell_type": "code",
   "execution_count": 37,
   "metadata": {},
   "outputs": [
    {
     "name": "stdout",
     "output_type": "stream",
     "text": [
      "* * * *  \n",
      "* * *  \n",
      "* *  \n",
      "*  \n"
     ]
    }
   ],
   "source": [
    "for i in range(0, 4):\n",
    "    for j in range(0, 4):\n",
    "        if i<=j:\n",
    "            print(\"*\", end = \" \")\n",
    "\n",
    "    print(\" \")     "
   ]
  },
  {
   "cell_type": "code",
   "execution_count": 2,
   "metadata": {},
   "outputs": [
    {
     "name": "stdout",
     "output_type": "stream",
     "text": [
      "* * * * * * * * * * * * 6789\n"
     ]
    }
   ],
   "source": [
    "card_no = input(\"enter card number\")\n",
    "print('*' * 4 + '*' * 4 + '*' * 4 + card_no[12:16])"
   ]
  },
  {
   "cell_type": "code",
   "execution_count": 2,
   "metadata": {},
   "outputs": [
    {
     "name": "stdout",
     "output_type": "stream",
     "text": [
      "abegCDFHI\n"
     ]
    }
   ],
   "source": [
    "str1 = input(\"ENter a string\")\n",
    "lower = ''\n",
    "upper =  ''\n",
    "\n",
    "for x in str1:\n",
    "    if x.islower():\n",
    "        lower += x\n",
    "\n",
    "    else:\n",
    "        upper += x    \n",
    "\n",
    "str2 = lower + upper\n",
    "print(str2)        "
   ]
  },
  {
   "cell_type": "code",
   "execution_count": null,
   "metadata": {},
   "outputs": [],
   "source": []
  },
  {
   "cell_type": "code",
   "execution_count": 3,
   "metadata": {},
   "outputs": [
    {
     "name": "stdout",
     "output_type": "stream",
     "text": [
      "[10, 6, 4]\n"
     ]
    }
   ],
   "source": [
    "L1 = [10, 15, 6, 9, 12, 8, 4]\n",
    "L2 = [14, 6, 19, 4, 7, 10, 11]\n",
    "L3 = []\n",
    "for i in range(len(L1)):\n",
    "    if L1[i] in L2:\n",
    "        L3.append(L1[i])\n",
    "\n",
    "print(L3)    "
   ]
  },
  {
   "cell_type": "code",
   "execution_count": 12,
   "metadata": {},
   "outputs": [
    {
     "name": "stdout",
     "output_type": "stream",
     "text": [
      "['A', 2, 'B', 4, 'C', 1, 'D', 2, 'E', 2]\n"
     ]
    }
   ],
   "source": [
    "L1 = ['A', 'B', 'C', 'D', 'A', 'B', 'E', 'B', 'D', 'B', 'E']\n",
    "result = []\n",
    "\n",
    "for x in L1:\n",
    "    if x not in result:\n",
    "        result.append(x)\n",
    "        result.append(L1.count(x))\n",
    "    \n",
    "\n",
    "print(result)    "
   ]
  },
  {
   "cell_type": "code",
   "execution_count": 14,
   "metadata": {},
   "outputs": [
    {
     "name": "stdout",
     "output_type": "stream",
     "text": [
      "[[1, 1, 1], [2, 2, 2], [3, 3, 3], [4, 4, 4]]\n"
     ]
    }
   ],
   "source": [
    "L1 = [[1, 2, 3, 4], [1, 2, 3, 4], [1, 2, 3, 4]]\n",
    "L2 = []\n",
    "\n",
    "for i in range(4):\n",
    "    s = []\n",
    "    for j in range(3):\n",
    "        s.append(L1[j][i])\n",
    "\n",
    "    L2.append(s)\n",
    "print(L2)        "
   ]
  },
  {
   "cell_type": "code",
   "execution_count": 16,
   "metadata": {},
   "outputs": [
    {
     "ename": "TypeError",
     "evalue": "list indices must be integers or slices, not str",
     "output_type": "error",
     "traceback": [
      "\u001b[1;31m---------------------------------------------------------------------------\u001b[0m",
      "\u001b[1;31mTypeError\u001b[0m                                 Traceback (most recent call last)",
      "Cell \u001b[1;32mIn[16], line 6\u001b[0m\n\u001b[0;32m      3\u001b[0m L1 \u001b[38;5;241m=\u001b[39m []\n\u001b[0;32m      4\u001b[0m \u001b[38;5;28;01mfor\u001b[39;00m i \u001b[38;5;129;01min\u001b[39;00m food:\n\u001b[1;32m----> 6\u001b[0m     \u001b[38;5;28;01mif\u001b[39;00m \u001b[43mfood\u001b[49m\u001b[43m[\u001b[49m\u001b[43mi\u001b[49m\u001b[43m]\u001b[49m[\u001b[38;5;241m0\u001b[39m] \u001b[38;5;241m==\u001b[39m \u001b[38;5;241m0\u001b[39m:\n\u001b[0;32m      7\u001b[0m         L1\u001b[38;5;241m.\u001b[39mappend(i)\n\u001b[0;32m      9\u001b[0m \u001b[38;5;28mprint\u001b[39m(L1)        \n",
      "\u001b[1;31mTypeError\u001b[0m: list indices must be integers or slices, not str"
     ]
    }
   ],
   "source": [
    "letter = input(\"Enter letter\")\n",
    "food = ['pizza', 'nuggets', 'hotdog', 'noodles', 'pasta', 'burger']\n",
    "L1 = []\n",
    "for i in food:\n",
    "\n",
    "    if food[i][0] == 0:\n",
    "        L1.append(i)\n",
    "\n",
    "print(L1)        \n"
   ]
  },
  {
   "cell_type": "code",
   "execution_count": 18,
   "metadata": {},
   "outputs": [
    {
     "name": "stdout",
     "output_type": "stream",
     "text": [
      "[None, None, None, None, None, None, None, None, None, None]\n"
     ]
    }
   ],
   "source": [
    "list1 = [None]*10\n",
    "print(list1)"
   ]
  },
  {
   "cell_type": "code",
   "execution_count": 11,
   "metadata": {},
   "outputs": [
    {
     "name": "stdout",
     "output_type": "stream",
     "text": [
      "khan 12/10/2006\n"
     ]
    }
   ],
   "source": [
    "birthdays = {'Sachin': '03/14/2003', 'carl': '01/17/2001', 'khan': '12/10/2006', 'donald': '06/14/2010', 'rohan': '01/06/2000'}\n",
    "\n",
    "names = input(\"Enter Names:\")\n",
    "\n",
    "if names in birthdays:\n",
    "    print(names, birthdays[names])\n",
    "\n",
    "else:\n",
    "    print(\"Invalid Name\")\n"
   ]
  },
  {
   "cell_type": "code",
   "execution_count": 16,
   "metadata": {},
   "outputs": [
    {
     "name": "stdout",
     "output_type": "stream",
     "text": [
      "['portion of a object or a material produced by cutting', 'a peice of cloth or other material used to ment or strengthen a torn or weak point', 'a region of part of a town, a country or the world', 'go to see and spend time with(someone)', 'having or prossessing', 'less than normal']\n",
      "portion of a object or a material produced by cutting\n",
      "a peice of cloth or other material used to ment or strengthen a torn or weak point\n"
     ]
    }
   ],
   "source": [
    "# dict = {'piece': 'portion of a object or a material produced by cutting', \n",
    "#         'patch': 'a peice of cloth or other material used to ment or strengthen a torn or weak point',\n",
    "#         'area': 'a region of part of a town, a country or the world', \n",
    "#         'visit': 'go to see and spend time with(someone)', \n",
    "#         'with': 'having or prossessing',\n",
    "#         'small': 'less than normal'}\n",
    "\n",
    "# L1 = list(dict.values())\n",
    "# maximum = max(L1)\n",
    "# minimum =  min(L1)\n",
    "\n",
    "# print(L1)\n",
    "# print(maximum)\n",
    "# print(minimum)"
   ]
  },
  {
   "cell_type": "code",
   "execution_count": 3,
   "metadata": {},
   "outputs": [
    {
     "name": "stdout",
     "output_type": "stream",
     "text": [
      "{'I': ['india '], 'P': ['pakistan'], 'B': ['bhutan'], 'N': ['nepal']}\n"
     ]
    }
   ],
   "source": [
    "countries = {}\n",
    "\n",
    "for i in range(4):\n",
    "    names = input(\"Enter country Name\")\n",
    "    if names[0].upper() not in countries:\n",
    "        countries[names[0].upper()] = [names]\n",
    "\n",
    "    else:\n",
    "        countries[names[0].upper()].append(names)\n",
    "\n",
    "print(countries)        \n",
    "\n"
   ]
  },
  {
   "cell_type": "code",
   "execution_count": 5,
   "metadata": {},
   "outputs": [
    {
     "data": {
      "text/plain": [
       "120"
      ]
     },
     "execution_count": 5,
     "metadata": {},
     "output_type": "execute_result"
    }
   ],
   "source": [
    "def fact(n):\n",
    "    if n == 0:\n",
    "        return 1\n",
    "    else:\n",
    "        return n * fact(n-1)\n",
    "    \n",
    "fact(5)    \n"
   ]
  },
  {
   "cell_type": "code",
   "execution_count": 7,
   "metadata": {},
   "outputs": [
    {
     "data": {
      "text/plain": [
       "True"
      ]
     },
     "execution_count": 7,
     "metadata": {},
     "output_type": "execute_result"
    }
   ],
   "source": [
    "# Difference between two numbers\n",
    "# Check if maximum difference between them is 5.\n",
    "\n",
    "def diff(a, b):\n",
    "    if a - b <= 5:\n",
    "        return True\n",
    "    else:\n",
    "        return False\n",
    "    \n",
    "diff(10, 2)\n",
    "diff(-3, -5)  \n"
   ]
  },
  {
   "cell_type": "code",
   "execution_count": 4,
   "metadata": {},
   "outputs": [
    {
     "name": "stdout",
     "output_type": "stream",
     "text": [
      "30\n"
     ]
    }
   ],
   "source": [
    "# Find the maximum of 3 numbers\n",
    "def max3(a, b, c):\n",
    "    if a>b and a>c:\n",
    "        return a\n",
    "    elif b>c:\n",
    "        return b\n",
    "    else:\n",
    "        return c\n",
    "    \n",
    "print(max3(10, 20, 30 ))    "
   ]
  },
  {
   "cell_type": "code",
   "execution_count": 10,
   "metadata": {},
   "outputs": [
    {
     "name": "stdout",
     "output_type": "stream",
     "text": [
      "My Name is kusum and I am a Doctar\n",
      "None\n"
     ]
    }
   ],
   "source": [
    "# possional arguments  ##\n",
    "def print_str(str1, str2):\n",
    "    print(\"My Name is\", str1, \"and I am a\", str2)\n",
    "\n",
    "result = print_str(\"kusum\", \"Doctar\") \n",
    "print(result)   "
   ]
  },
  {
   "cell_type": "code",
   "execution_count": 11,
   "metadata": {},
   "outputs": [
    {
     "name": "stdout",
     "output_type": "stream",
     "text": [
      "My Name is Kusum and i am a Doctar\n"
     ]
    }
   ],
   "source": [
    "def message(name, prof, /):\n",
    "    print('My Name is ' + name + ' and i am a ' + prof)\n",
    "\n",
    "message('Kusum', 'Doctar')    \n"
   ]
  },
  {
   "cell_type": "code",
   "execution_count": 34,
   "metadata": {},
   "outputs": [
    {
     "name": "stdout",
     "output_type": "stream",
     "text": [
      "planet Name is  marse\n"
     ]
    }
   ],
   "source": [
    "def planets(id):\n",
    "    planets = {1:\"marcury\", 2:\"venus\", 3:\"earth\", 4:\"marse\", 5:\"jupiter\", 6: \"saturn\", 7: \"uranus\", 8: \"neptune\", 9: \"pluto\"}\n",
    "    # if id<=0 and id>9:\n",
    "    #     print(\"Invalid ID\")\n",
    "    return planets[id]\n",
    "\n",
    "\n",
    "id = int(input(id))\n",
    "7\n",
    "\n",
    "p = planets(id)    \n",
    "print('planet Name is ', p)"
   ]
  },
  {
   "cell_type": "code",
   "execution_count": 38,
   "metadata": {},
   "outputs": [
    {
     "name": "stdout",
     "output_type": "stream",
     "text": [
      "[200, 300, 100]\n",
      "Total sum is  600\n"
     ]
    }
   ],
   "source": [
    "def sum0():\n",
    "    scores = [200, 456, 300, 100, 234, 678]\n",
    "    L = []\n",
    "    for i in scores:\n",
    "        if i%10 == 0:\n",
    "            L.append(i)\n",
    "    print(L)\n",
    "    total = sum(L)\n",
    "    print(\"Total sum is \", total)\n",
    "sum0()            \n",
    "\n",
    "\n"
   ]
  },
  {
   "cell_type": "code",
   "execution_count": 9,
   "metadata": {},
   "outputs": [
    {
     "name": "stdout",
     "output_type": "stream",
     "text": [
      "(0, 16)\n",
      "(0, 13)\n"
     ]
    }
   ],
   "source": [
    "# count letters\n",
    "def count(str):\n",
    "    lower = 0\n",
    "    upper = 0\n",
    "\n",
    "    \n",
    "    for x in str:\n",
    "        \n",
    "        if x.isupper:\n",
    "            upper += 1\n",
    "        elif x.islower:\n",
    "            lower += 1\n",
    "    return lower, upper\n",
    "\n",
    "print(count('My Name Is Kusum'))\n",
    "print(count('I Am a Doctor'))\n",
    "\n",
    "        \n"
   ]
  },
  {
   "cell_type": "code",
   "execution_count": 4,
   "metadata": {},
   "outputs": [
    {
     "name": "stdout",
     "output_type": "stream",
     "text": [
      "Inner Function\n"
     ]
    }
   ],
   "source": [
    "def outer():\n",
    "    def Inner():\n",
    ";        print(\"Inner Function\")\n",
    "\n",
    "    Inner()\n",
    "outer()        "
   ]
  },
  {
   "cell_type": "code",
   "execution_count": null,
   "metadata": {},
   "outputs": [],
   "source": [
    "class AcountBalanceAxception(Exception):\n",
    "    pass\n",
    "balance = 1000\n",
    "\n",
    "def widrawl(amount):\n",
    "    if balance - amount < 1000:\n"
   ]
  },
  {
   "cell_type": "code",
   "execution_count": null,
   "metadata": {},
   "outputs": [],
   "source": []
  },
  {
   "cell_type": "code",
   "execution_count": 4,
   "metadata": {},
   "outputs": [
    {
     "name": "stdout",
     "output_type": "stream",
     "text": [
      "78.5\n",
      "31.400000000000002\n"
     ]
    }
   ],
   "source": [
    "# class exc\n",
    "class Circle:\n",
    "\n",
    "    def __init__(self, radius, pi):\n",
    "        self.radius = radius\n",
    "        self.pi = pi\n",
    "\n",
    "    def area(self):\n",
    "        area = self.pi *(self.radius)**2\n",
    "        return area\n",
    "    def preimeter(self):\n",
    "        return 2* self.pi * self.radius\n",
    "\n",
    "c1 = Circle(5, 3.14)   \n",
    "print(c1.area())     \n",
    "print(c1.preimeter())\n",
    "\n",
    "\n"
   ]
  },
  {
   "cell_type": "code",
   "execution_count": 6,
   "metadata": {},
   "outputs": [
    {
     "name": "stdout",
     "output_type": "stream",
     "text": [
      "Title is  Algebra\n",
      "Author is   Gilbart\n",
      "Price is  300\n",
      "None\n"
     ]
    }
   ],
   "source": [
    "class Book:\n",
    "    def __init__(self, title, author, price):\n",
    "        self.title = title\n",
    "        self.author = author\n",
    "        self.price = price\n",
    "\n",
    "    def show_details(self):\n",
    "        print(\"Title is \", self.title)\n",
    "        print(\"Author is  \", self.author)\n",
    "        print(\"Price is \", self.price)\n",
    "        \n",
    "b1 = Book(\"Algebra\", \"Gilbart\", 300)  \n",
    "print(b1.show_details())          \n",
    "        \n",
    "\n",
    "        \n"
   ]
  },
  {
   "cell_type": "code",
   "execution_count": 9,
   "metadata": {},
   "outputs": [
    {
     "name": "stdout",
     "output_type": "stream",
     "text": [
      "Name:  Kusum\n",
      "Salary:  50000\n",
      "Designation:  Doctor\n",
      "None\n"
     ]
    },
    {
     "ename": "TypeError",
     "evalue": "unsupported operand type(s) for -: 'type' and 'int'",
     "output_type": "error",
     "traceback": [
      "\u001b[1;31m---------------------------------------------------------------------------\u001b[0m",
      "\u001b[1;31mTypeError\u001b[0m                                 Traceback (most recent call last)",
      "Cell \u001b[1;32mIn[9], line 22\u001b[0m\n\u001b[0;32m     20\u001b[0m e1 \u001b[38;5;241m=\u001b[39m Employee(\u001b[38;5;124m\"\u001b[39m\u001b[38;5;124mKusum\u001b[39m\u001b[38;5;124m\"\u001b[39m, \u001b[38;5;241m50000\u001b[39m, \u001b[38;5;124m\"\u001b[39m\u001b[38;5;124mDoctor\u001b[39m\u001b[38;5;124m\"\u001b[39m)\n\u001b[0;32m     21\u001b[0m \u001b[38;5;28mprint\u001b[39m(e1\u001b[38;5;241m.\u001b[39mshow_details())  \n\u001b[1;32m---> 22\u001b[0m \u001b[38;5;28mprint\u001b[39m(\u001b[43me1\u001b[49m\u001b[38;5;241;43m.\u001b[39;49m\u001b[43mtotal_employee\u001b[49m\u001b[43m(\u001b[49m\u001b[43m)\u001b[49m)     \n",
      "Cell \u001b[1;32mIn[9], line 18\u001b[0m, in \u001b[0;36mEmployee.total_employee\u001b[1;34m(employee_count)\u001b[0m\n\u001b[0;32m     16\u001b[0m \u001b[38;5;129m@classmethod\u001b[39m\n\u001b[0;32m     17\u001b[0m \u001b[38;5;28;01mdef\u001b[39;00m \u001b[38;5;21mtotal_employee\u001b[39m(employee_count):\n\u001b[1;32m---> 18\u001b[0m     \u001b[38;5;28;01mreturn\u001b[39;00m  \u001b[43memployee_count\u001b[49m\u001b[43m \u001b[49m\u001b[38;5;241;43m-\u001b[39;49m\u001b[43m \u001b[49m\u001b[38;5;241;43m100\u001b[39;49m\n",
      "\u001b[1;31mTypeError\u001b[0m: unsupported operand type(s) for -: 'type' and 'int'"
     ]
    }
   ],
   "source": [
    "class Employee:\n",
    "    employee_count = 101\n",
    "    def __init__(self, name, salary, designation):\n",
    "        self.name = name\n",
    "        self.salary = salary\n",
    "        self.designation = designation\n",
    "        Emp_id = Employee.employee_count\n",
    "        Employee.employee_count += 1\n",
    "\n",
    "    def show_details(self):\n",
    "        print(\"Name: \", self.name)\n",
    "        print(\"Salary: \", self.salary)\n",
    "        print(\"Designation: \", self.designation)\n",
    "\n",
    "\n",
    "    @classmethod\n",
    "    def total_employee(employee_count):\n",
    "        return  employee_count - 100\n",
    "\n",
    "e1 = Employee(\"Kusum\", 50000, \"Doctor\")\n",
    "print(e1.show_details())  \n",
    "print(e1.total_employee())     \n",
    "             \n",
    "\n",
    "    \n",
    "\n"
   ]
  },
  {
   "cell_type": "code",
   "execution_count": 18,
   "metadata": {},
   "outputs": [
    {
     "name": "stdout",
     "output_type": "stream",
     "text": [
      "50\n",
      "10\n",
      "600\n",
      "1\n"
     ]
    }
   ],
   "source": [
    "class Calculator:\n",
    "    @staticmethod\n",
    "    def add(a, b):\n",
    "        return a + b\n",
    "    \n",
    "    @staticmethod\n",
    "    def sub(a, b):\n",
    "        return a - b\n",
    "    \n",
    "    @staticmethod\n",
    "    def mul(a, b):\n",
    "        return a * b\n",
    "    \n",
    "    @staticmethod\n",
    "    def div(a, b):\n",
    "        return a // b\n",
    "    \n",
    "a = 30\n",
    "b = 20 \n",
    "c1 = Calculator()\n",
    "\n",
    "print(c1.add(a, b)) \n",
    "print(c1.sub(a, b)) \n",
    "print(c1.mul(a, b)) \n",
    "print(c1.div(a, b)) \n"
   ]
  },
  {
   "cell_type": "code",
   "execution_count": 25,
   "metadata": {},
   "outputs": [
    {
     "name": "stdout",
     "output_type": "stream",
     "text": [
      "Name: kusum\n",
      "Phone Number: 7856902345\n",
      "5656565656\n"
     ]
    }
   ],
   "source": [
    "class Customer:\n",
    "    def __init__(self, name, phonenumber):\n",
    "        self.name = name\n",
    "        self.phonenumber = phonenumber\n",
    "\n",
    "    def get_name(self):\n",
    "        return \"Name: \" + self.name\n",
    "    \n",
    "\n",
    "    def get_phoneno(self):\n",
    "        return \"Phone Number: \" + str(self.phonenumber)\n",
    "\n",
    "    def set_phoneno(self, new_num):\n",
    "        self.phonenumber = new_num\n",
    "        return self.phonenumber\n",
    "\n",
    "\n",
    "c1 = Customer(\"kusum\", 7856902345)\n",
    "print(c1.get_name())\n",
    "print(c1.get_phoneno())\n",
    "print(c1.set_phoneno(5656565656))\n",
    "            "
   ]
  },
  {
   "cell_type": "code",
   "execution_count": 32,
   "metadata": {},
   "outputs": [
    {
     "name": "stdout",
     "output_type": "stream",
     "text": [
      "7000\n",
      "your account balance is: 5000\n",
      "<class '__main__.MinimumBalanceError'>\n"
     ]
    }
   ],
   "source": [
    "class MinimumBalanceError:\n",
    "    pass\n",
    "class Account:\n",
    "    AccountNumber = 10001\n",
    "    \n",
    "    def __init__(self, name, balance):\n",
    "        self.name = name\n",
    "        self.balance = balance\n",
    "        self.accountnumber = Account.AccountNumber\n",
    "        Account.AccountNumber += 1\n",
    "\n",
    "    def deposit(self, amount):\n",
    "        return self.balance + amount\n",
    "    \n",
    "    def withdraw(self, amount):\n",
    "        if self.balance - amount <= 1000:\n",
    "            return MinimumBalanceError\n",
    "        else:\n",
    "            return \"your account balance is: \" + str(self.balance)\n",
    "        \n",
    "a1 = Account(\"kusum\", 5000)        \n",
    "print(a1.deposit(2000)) \n",
    "print(a1.withdraw(2000))\n",
    "print(a1.withdraw(7000))         \n"
   ]
  },
  {
   "cell_type": "code",
   "execution_count": null,
   "metadata": {},
   "outputs": [],
   "source": [
    "# Inner class\n",
    "class Computer:\n",
    "    def __init__(self, name, make, os):\n",
    "        self.name = name\n",
    "\n",
    "        n\\\n",
    "      "
   ]
  },
  {
   "cell_type": "code",
   "execution_count": 13,
   "metadata": {},
   "outputs": [
    {
     "name": "stdout",
     "output_type": "stream",
     "text": [
      "My Name is:  kitty\n",
      "My Age is:  2\n",
      "Sound is mew mew\n"
     ]
    }
   ],
   "source": [
    "# polymorphism\n",
    "\n",
    "class Cat:\n",
    "    def __init__(self, name, age):\n",
    "        self.name = name\n",
    "        self.age = age\n",
    "\n",
    "    def info(self):\n",
    "        print(\"My Name is: \", self.name)\n",
    "        print(\"My Age is: \", self.age)\n",
    "\n",
    "    def make_sound(self):\n",
    "        print(\"Sound is mew mew\")\n",
    "\n",
    "class Dog:\n",
    "    def __init__(self, name, age):\n",
    "        self.name = name\n",
    "        self.age = age\n",
    "\n",
    "    def info(self):\n",
    "        print(\"My Name is: \", self.name)\n",
    "        print(\"My Age is: \", self.age)\n",
    "\n",
    "    def make_sound(self):\n",
    "        print(\"Sound is bow wow\")\n",
    "    \n",
    "def my_pet(pet):\n",
    "    pet.info()\n",
    "    pet.make_sound()\n",
    "\n",
    "c1 = Cat(\"kitty\", 2)\n",
    "d1 = Dog(\"Tomy\", 3)  \n",
    "my_pet(c1)   \n"
   ]
  },
  {
   "cell_type": "code",
   "execution_count": 18,
   "metadata": {},
   "outputs": [
    {
     "name": "stdout",
     "output_type": "stream",
     "text": [
      "Bonjour\n"
     ]
    }
   ],
   "source": [
    "# polymorphism\n",
    "\n",
    "class English:\n",
    "    \n",
    "        \n",
    "    def greeting(self):\n",
    "        print(\"Hello\")\n",
    "\n",
    "class French:\n",
    "    def greeting(self):\n",
    "        print(\"Bonjour\")\n",
    "\n",
    "def greet(language):\n",
    "    language.greeting()\n",
    "\n",
    "e = English()\n",
    "f = French()  \n",
    "\n",
    "greet(f)\n",
    "\n"
   ]
  },
  {
   "cell_type": "code",
   "execution_count": 20,
   "metadata": {},
   "outputs": [
    {
     "ename": "AttributeError",
     "evalue": "'Angle' object has no attribute 'add'",
     "output_type": "error",
     "traceback": [
      "\u001b[1;31m---------------------------------------------------------------------------\u001b[0m",
      "\u001b[1;31mAttributeError\u001b[0m                            Traceback (most recent call last)",
      "Cell \u001b[1;32mIn[20], line 14\u001b[0m\n\u001b[0;32m     11\u001b[0m         \u001b[38;5;28mprint\u001b[39m(\u001b[38;5;28mself\u001b[39m\u001b[38;5;241m.\u001b[39mdegree)\n\u001b[0;32m     13\u001b[0m a1 \u001b[38;5;241m=\u001b[39m Angle(\u001b[38;5;241m30\u001b[39m)\n\u001b[1;32m---> 14\u001b[0m \u001b[43ma1\u001b[49m\u001b[38;5;241;43m.\u001b[39;49m\u001b[43madd\u001b[49m()            \n",
      "\u001b[1;31mAttributeError\u001b[0m: 'Angle' object has no attribute 'add'"
     ]
    }
   ],
   "source": [
    "# Operater Overloading\n",
    "\n",
    "class Angle:\n",
    "    def __init__(self, degree):\n",
    "        self.degree = degree\n",
    "\n",
    "    def __add__(self, angle):\n",
    "        return \"Angle is: \"+ str(self.degree + angle)\n",
    "\n",
    "    def __str__(self):\n",
    "        print(self.degree)\n",
    "\n",
    "a1 = Angle(30)\n",
    "a1.add()            "
   ]
  },
  {
   "cell_type": "code",
   "execution_count": 22,
   "metadata": {},
   "outputs": [
    {
     "data": {
      "text/plain": [
       "'how can i help you'"
      ]
     },
     "execution_count": 22,
     "metadata": {},
     "output_type": "execute_result"
    }
   ],
   "source": [
    "# Overriding\n",
    "\n",
    "class Robot:\n",
    "    def __init__(self, name):\n",
    "        self.name = name\n",
    "\n",
    "    def say_hii(self):\n",
    "        return \"hello\" + self.name\n",
    "\n",
    "class PoliceRobot(Robot):\n",
    "    def say_hii(self):\n",
    "        return \"how can i help you\"\n",
    "\n",
    "r1 = Robot(\"siri\")\n",
    "p1 = PoliceRobot(\"Alexa\")    \n",
    "r1.say_hii()\n",
    "p1.say_hii()    "
   ]
  },
  {
   "cell_type": "code",
   "execution_count": 24,
   "metadata": {},
   "outputs": [
    {
     "data": {
      "text/plain": [
       "28.274333882308138"
      ]
     },
     "execution_count": 24,
     "metadata": {},
     "output_type": "execute_result"
    }
   ],
   "source": [
    "# Method overriding\n",
    "import math\n",
    "class Shape:\n",
    "    def __init__(self, name):\n",
    "        self.name = name\n",
    "\n",
    "    def area(self):\n",
    "        pass\n",
    "\n",
    "class Rectangle(Shape):\n",
    "    def __init__(self, length, breadth):\n",
    "        self.length = length\n",
    "        self.breadth = breadth\n",
    "\n",
    "    def area(self):\n",
    "        return self.length * self.breadth\n",
    "\n",
    "class Triangle(Shape):\n",
    "    def __init__(self, radius):\n",
    "        self.radius = radius\n",
    "\n",
    "    def area(self):\n",
    "        return math.pi * (self.radius) **2\n",
    "    \n",
    "r1 = Rectangle(5, 8)\n",
    "r1.area() \n",
    "\n",
    "t1 = Triangle(3)\n",
    "t1.area()\n"
   ]
  },
  {
   "cell_type": "code",
   "execution_count": 2,
   "metadata": {},
   "outputs": [],
   "source": [
    "# Overriding\n",
    "\n",
    "class Order:\n",
    "    def __init__(self, cart):\n",
    "        self.cart = []\n",
    "\n",
    "        self.item = Order(self.item)\n",
    "\n",
    "    def add_to_cart(self, item):\n",
    "        return self.cart.append(item)\n",
    "\n",
    "    def remove(self, item):\n",
    "        return self.cart.remove(item)\n",
    "\n",
    "    def __len__(self):\n",
    "        return len(self.cart)\n",
    "\n",
    "    def __str__(self):\n",
    "        for i in self.cart:\n",
    "            print(i)\n",
    "\n"
   ]
  },
  {
   "cell_type": "code",
   "execution_count": 11,
   "metadata": {},
   "outputs": [
    {
     "name": "stdout",
     "output_type": "stream",
     "text": [
      "Counter({'easy': 4, 'language': 4, 'to': 4, 'Python': 3, 'is': 3, 'and': 3, 'the': 2, 'code': 2, 'an': 1, 'programming': 1, 'syntax': 1, 'like': 1, 'english': 1, 'learn': 1, 'adapt': 1, 'compared': 1, 'java': 1, 'C': 1, 'In': 1, 'python': 1, 'same': 1, 'task': 1, 'can': 1, 'be': 1, 'performed': 1, 'using': 1, 'fewer': 1, 'lines': 1, 'of': 1, 'Its': 1, 'learning': 1})\n",
      "[('easy', 4), ('language', 4), ('to', 4)]\n"
     ]
    },
    {
     "name": "stderr",
     "output_type": "stream",
     "text": [
      "<>:11: SyntaxWarning: invalid escape sequence '\\w'\n",
      "<>:11: SyntaxWarning: invalid escape sequence '\\w'\n",
      "C:\\Users\\kusum\\AppData\\Local\\Temp\\ipykernel_7568\\3143120146.py:11: SyntaxWarning: invalid escape sequence '\\w'\n",
      "  words = re.findall('\\w+', text)\n"
     ]
    }
   ],
   "source": [
    "from collections import Counter\n",
    "import re\n",
    "\n",
    "text = \"\"\"Python is an easy programming language.\n",
    "Python syntax is like the english language.\n",
    "Python language is easy to learn and adapt to compared to java and C.\n",
    "In python language, the same task can be performed using fewer lines of code.\n",
    "Its easy learning and easy to code. \"\"\"\n",
    "\n",
    "#words = text.split()\n",
    "words = re.findall('\\w+', text)\n",
    "\n",
    "count = Counter(words)\n",
    "print(count)\n",
    "print(count.most_common(3))"
   ]
  },
  {
   "cell_type": "code",
   "execution_count": 32,
   "metadata": {},
   "outputs": [
    {
     "name": "stdout",
     "output_type": "stream",
     "text": [
      "username:  kusum\n",
      "userID:  1\n"
     ]
    }
   ],
   "source": [
    "# Library Project\n",
    "user = []\n",
    "class User:\n",
    "    userID = 1\n",
    "\n",
    "    def __init__(self, username, password):\n",
    "        self.username = username\n",
    "        self.password = password\n",
    "        self.userID = User.userID\n",
    "        User.userID += 1\n",
    "\n",
    "    def change_username(self, new_username):\n",
    "        self.username = new_username\n",
    "        \n",
    "        \n",
    "    # def get_user(self, userID):\n",
    "    #     print(\"User ID: \", userID)\n",
    "    #     print(\"User Name: \", self.username)\n",
    "\n",
    "\n",
    "def display_user( user_obj):\n",
    "    print(\"username: \", user_obj.username)\n",
    "    print(\"userID: \", user_obj.userID)\n",
    "\n",
    "    \n",
    "\n",
    "        \n",
    "username = input(\"Enter Your Username: \")             \n",
    "password = input(\"Enter Your Password: \")  \n",
    "user = User(username, password)\n",
    "\n",
    "display_user(user)\n",
    "                                                                                                                                                                                                                                                               \n"
   ]
  },
  {
   "cell_type": "code",
   "execution_count": 28,
   "metadata": {},
   "outputs": [
    {
     "name": "stdout",
     "output_type": "stream",
     "text": [
      "Akshay  salary is  70000\n",
      "Akshay  department is  Mathematics\n",
      "Employee Name:  Akshay\n",
      "Employee Department:  Mathematics\n",
      "Employee Salary:  70000\n",
      "Employee ID:  1\n",
      "\n",
      "kusum  salary is  50000\n",
      "kusum  department is  Accounting\n",
      "Employee Name:  kusum\n",
      "Employee Department:  Accounting\n",
      "Employee Salary:  50000\n",
      "Employee ID:  2\n"
     ]
    }
   ],
   "source": [
    "# Employee Class\n",
    "class Employee:\n",
    "\n",
    "    emp_id = 1\n",
    "\n",
    "    def __init__(self, emp_name, emp_salary, emp_dept):\n",
    "        self.employee_id = Employee.emp_id\n",
    "        self.employee_name = emp_name\n",
    "        self.employee_salary = emp_salary\n",
    "        self.employee_dept = emp_dept\n",
    "        Employee.emp_id += 1\n",
    "\n",
    "    def calculate_emp_salary(self):\n",
    "        \n",
    "        print(self.employee_name, \" salary is \", self.employee_salary)\n",
    "        \n",
    "    def emp_assign_department(self):\n",
    "        \n",
    "        print(self.employee_name, \" department is \", self.employee_dept)\n",
    "        \n",
    "\n",
    "    def print_emp_details(self):\n",
    "        print(\"Employee Name: \", self.employee_name)\n",
    "        print(\"Employee Department: \", self.employee_dept)\n",
    "        print(\"Employee Salary: \", self.employee_salary)\n",
    "        print(\"Employee ID: \", self.employee_id)\n",
    "\n",
    "\n",
    "name = input(\"enter your name: \")\n",
    "salary = input(\"Enter Salary: \")\n",
    "\n",
    "emp1 = Employee(name, salary, \"Mathematics\")  \n",
    "emp1.calculate_emp_salary()     \n",
    "emp1.emp_assign_department()\n",
    "emp1.print_emp_details()\n",
    "print()\n",
    "emp2 = Employee(\"kusum\", 50000, \"Accounting\")  \n",
    "emp2.calculate_emp_salary()     \n",
    "emp2.emp_assign_department()\n",
    "emp2.print_emp_details()\n"
   ]
  },
  {
   "cell_type": "code",
   "execution_count": 9,
   "metadata": {},
   "outputs": [
    {
     "name": "stdout",
     "output_type": "stream",
     "text": [
      "Account Created\n",
      "User Name:  kusum\n",
      "User ID:  1\n"
     ]
    }
   ],
   "source": [
    "# User Class\n",
    "class User:\n",
    "    userID = 1\n",
    "    def __init__(self, user_name, password, confirm_password):\n",
    "        self.username = user_name\n",
    "        self.password = password\n",
    "        self.confirm_password = confirm_password\n",
    "        self.userID = User.userID\n",
    "        User.userID += 1\n",
    "\n",
    "    def create_account(self, username, password, confirm_password):\n",
    "        print(\"Account Created\")\n",
    "        print(\"User Name: \", username)\n",
    "        print(\"User ID: \", self.userID)    \n",
    "\n",
    "username = input(\"Enter User Name: \")\n",
    "password = input(\"Enter Password:\")\n",
    "confirm_password = input(\"Enter Confirm Password:\")\n",
    "# def create_account(username, password, confirm_password):\n",
    "#     print(\"Account Created\")\n",
    "\n",
    "user1 = User(username, password, confirm_password)\n",
    "user1.create_account(username, password, confirm_password)    \n",
    "\n",
    "\n",
    "\n",
    "\n",
    "\n",
    "    "
   ]
  },
  {
   "cell_type": "code",
   "execution_count": 3,
   "metadata": {},
   "outputs": [
    {
     "name": "stdout",
     "output_type": "stream",
     "text": [
      "2833291452368\n",
      "Area of cuboid is:  76\n",
      "Volume of a cuboid is:  40\n",
      "2833291452368\n",
      "2833291452080\n",
      "2833291452080\n"
     ]
    }
   ],
   "source": [
    "# write a class for cuboid\n",
    "class Cuboid:\n",
    "    def __init__(self, length, breadth, height):\n",
    "        print(id(self))\n",
    "        self.length = length\n",
    "        self.breadth = breadth\n",
    "        self.height = height\n",
    "\n",
    "\n",
    "    def area(self): \n",
    "        area = 2*(self.length* self.breadth + self.breadth*self.height + self.height * self.length)\n",
    "        print(\"Area of cuboid is: \", area)\n",
    "\n",
    "    def volume(self):\n",
    "        volume = self.length * self.breadth * self.height\n",
    "        print(\"Volume of a cuboid is: \", volume)\n",
    "\n",
    "\n",
    "c1 = Cuboid(2, 4, 5)\n",
    "c1.area() \n",
    "c1.volume() \n",
    "print(id(c1)) \n",
    "c2 = Cuboid(3, 5, 9)  \n",
    "print(id(c2))     "
   ]
  },
  {
   "cell_type": "code",
   "execution_count": null,
   "metadata": {},
   "outputs": [],
   "source": [
    "class Instagram:\n",
    "    userID = 1\n",
    "\n",
    "    def __init__(self):\n",
    "        self.userID = User.userID\n",
    "        User.userID +=1\n",
    "\n",
    "\n",
    "    def __str__(self):\n",
    "            \n"
   ]
  },
  {
   "cell_type": "code",
   "execution_count": 1,
   "metadata": {},
   "outputs": [
    {
     "name": "stdout",
     "output_type": "stream",
     "text": [
      "user1's Bio: Welcome to my profile!\n",
      "user1's Followers: 0\n",
      "user1's Following: 1\n",
      "user1's Posts: ['Check out my new photo!']\n"
     ]
    }
   ],
   "source": [
    "class InstagramAccount:\n",
    "    def __init__(self, username, email):\n",
    "        self.username = username\n",
    "        self.email = email\n",
    "        self.bio = \"\"\n",
    "        self.followers_count = 0\n",
    "        self.following_count = 0\n",
    "        self.posts = []\n",
    "\n",
    "    def update_bio(self, new_bio):\n",
    "        self.bio = new_bio\n",
    "\n",
    "    def follow(self, other_account):\n",
    "        other_account.followers_count += 1\n",
    "        self.following_count += 1\n",
    "\n",
    "    def unfollow(self, other_account):\n",
    "        other_account.followers_count -= 1\n",
    "        self.following_count -= 1\n",
    "\n",
    "    def create_post(self, post_content):\n",
    "        self.posts.append(post_content)\n",
    "\n",
    "\n",
    "# Example usage:\n",
    "\n",
    "# Create two Instagram accounts\n",
    "user1 = InstagramAccount(\"user1\", \"user1@example.com\")\n",
    "user2 = InstagramAccount(\"user2\", \"user2@example.com\")\n",
    "\n",
    "# Update bio\n",
    "user1.update_bio(\"Welcome to my profile!\")\n",
    "\n",
    "# Follow user2\n",
    "user1.follow(user2)\n",
    "\n",
    "# Create a post\n",
    "user1.create_post(\"Check out my new photo!\")\n",
    "\n",
    "# Print user1's information\n",
    "print(f\"{user1.username}'s Bio: {user1.bio}\")\n",
    "print(f\"{user1.username}'s Followers: {user1.followers_count}\")\n",
    "print(f\"{user1.username}'s Following: {user1.following_count}\")\n",
    "print(f\"{user1.username}'s Posts: {user1.posts}\")"
   ]
  },
  {
   "cell_type": "code",
   "execution_count": 1,
   "metadata": {},
   "outputs": [
    {
     "name": "stdout",
     "output_type": "stream",
     "text": [
      "Followers: 1\n",
      "Followers: 0\n",
      "None\n"
     ]
    }
   ],
   "source": [
    "class InstagramAccount:\n",
    "    def __init__(self, username, email):\n",
    "        self.username = username\n",
    "        self.email = email\n",
    "        self.bio = \"\"\n",
    "        self.followers = 0\n",
    "        self.following = 0\n",
    "        self.post = []\n",
    "\n",
    "    def add_followers(self, other_account):\n",
    "        other_account.followers += 1\n",
    "         \n",
    "        return \"Followers: \"+ str(other_account.followers)\n",
    "        \n",
    "    def unfollow(self, other_account):\n",
    "        other_account.followers -= 1\n",
    "        return \"Followers: \"+ str(other_account.followers)\n",
    "    \n",
    "    def uploading_post(self, new_post):\n",
    "        self.post.append(new_post)\n",
    "       \n",
    "\n",
    "\n",
    "\n",
    "user1 = InstagramAccount(\"kusum\", \"kusum@gmail.com\") \n",
    "user2 = InstagramAccount(\"Tanwar\", \"tanwar@gmail.com\")       \n",
    "print(user1.add_followers(user2))\n",
    "print(user1.unfollow(user2))\n",
    "print(user1.uploading_post(\"checkout my new post\"))"
   ]
  },
  {
   "cell_type": "code",
   "execution_count": 16,
   "metadata": {},
   "outputs": [
    {
     "name": "stdout",
     "output_type": "stream",
     "text": [
      "Enter Username:  kusum\n",
      "Enter Password:  123\n"
     ]
    }
   ],
   "source": [
    "class User:\n",
    "    userId = 1\n",
    "\n",
    "    def __init__(self, username, password):\n",
    "        self.username = username\n",
    "        self.password = password\n",
    "        self.userId = User.userId\n",
    "        User.userId += 1\n",
    "\n",
    "    def login_account(self):\n",
    "        \n",
    "username = input(\"Enter Username\")\n",
    "password = input(\"Enter Password\")\n",
    "\n",
    "user1 = User(username, password)\n",
    "user1.login_account()\n",
    "    "
   ]
  },
  {
   "cell_type": "code",
   "execution_count": 10,
   "metadata": {},
   "outputs": [
    {
     "name": "stdout",
     "output_type": "stream",
     "text": [
      "2\n",
      "2\n"
     ]
    }
   ],
   "source": [
    "# Rectangle class   \n",
    "class Rectangle:\n",
    "    count = 0\n",
    "    def __init__(self, length, breadth):\n",
    "        self.length = length\n",
    "        self.breadth = breadth\n",
    "        self.count = Rectangle.count\n",
    "        Rectangle.count += 1\n",
    "\n",
    "\n",
    "    def perimeter(self):\n",
    "        return self.length + self.breadth\n",
    "\n",
    "    def area(self):\n",
    "        return self.length * self.breadth\n",
    "\n",
    "    @classmethod\n",
    "    def countRect(cls):\n",
    "        print(cls.count)\n",
    "\n",
    "r1 = Rectangle(10, 5) \n",
    "r2 = Rectangle(8, 5) \n",
    "r1.area()  \n",
    "r1.countRect() \n",
    "r2.countRect()       \n"
   ]
  },
  {
   "cell_type": "code",
   "execution_count": 28,
   "metadata": {},
   "outputs": [
    {
     "name": "stdout",
     "output_type": "stream",
     "text": [
      "Book Title:  python\n",
      "Book Auther:  Mark Lutz\n",
      "Price:  500\n",
      "Quantity:  5\n",
      "Price: 500\n",
      "Quantity is: 7\n",
      "Quantity is: 3\n",
      "Quantity is: 5\n",
      "Quantity is: 15\n"
     ]
    }
   ],
   "source": [
    "# Creating a book class\n",
    "class Book:\n",
    "    def __init__(self, title, auther, price, quantity):\n",
    "        self.title = title\n",
    "        self.auther = auther\n",
    "        self.price = price\n",
    "        self.quantity = quantity\n",
    "\n",
    "    def get_price(self):\n",
    "        return self.price  \n",
    "\n",
    "    def set_price(self, new_price):\n",
    "        self.price = new_price\n",
    "\n",
    "    def get_quantity(self):\n",
    "        return self.quantity\n",
    "\n",
    "    def set_quantity(self, new_quantity):\n",
    "        self.quantity = new_quantity\n",
    "\n",
    "\n",
    "    def sell(self, number_sold):\n",
    "        if number_sold > self.quantity:\n",
    "            print(\"Not enough stock\")\n",
    "            \n",
    "        else:\n",
    "            self.quantity -=  number_sold\n",
    "\n",
    "    def restock(self, number_added):\n",
    "        self.quantity += number_added\n",
    "\n",
    "    def display_details(self):\n",
    "        print(\"Book Title: \", self.title)\n",
    "        print(\"Book Auther: \", self.auther)\n",
    "        print(\"Price: \", self.price)\n",
    "        print(\"Quantity: \", self.quantity)\n",
    "\n",
    "\n",
    "b1 = Book(\"python\", \"Mark Lutz\", 500, 5)\n",
    "b1.display_details()\n",
    "print(b1.get_price())\n",
    "b1.set_price(600)\n",
    "b1.get_price()\n",
    "b1.get_quantity()\n",
    "b1.set_quantity(7)\n",
    "print(b1.get_quantity())\n",
    "b1.sell(4)\n",
    "print(b1.get_quantity())\n",
    "b1.restock(4)\n",
    "b1.sell(2)\n",
    "print(b1.get_quantity())\n",
    "b1.restock(10)\n",
    "print(b1.get_quantity())"
   ]
  }
 ],
 "metadata": {
  "kernelspec": {
   "display_name": "Python 3",
   "language": "python",
   "name": "python3"
  },
  "language_info": {
   "codemirror_mode": {
    "name": "ipython",
    "version": 3
   },
   "file_extension": ".py",
   "mimetype": "text/x-python",
   "name": "python",
   "nbconvert_exporter": "python",
   "pygments_lexer": "ipython3",
   "version": "3.12.0"
  }
 },
 "nbformat": 4,
 "nbformat_minor": 2
}
